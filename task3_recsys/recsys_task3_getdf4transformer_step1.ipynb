{
 "cells": [
  {
   "cell_type": "code",
   "execution_count": 1,
   "metadata": {},
   "outputs": [
    {
     "name": "stderr",
     "output_type": "stream",
     "text": [
      "25/02/07 21:30:53 WARN Utils: Your hostname, gblssmachine resolves to a loopback address: 127.0.1.1; using 192.168.1.138 instead (on interface wlp6s0)\n",
      "25/02/07 21:30:53 WARN Utils: Set SPARK_LOCAL_IP if you need to bind to another address\n",
      "Setting default log level to \"WARN\".\n",
      "To adjust logging level use sc.setLogLevel(newLevel). For SparkR, use setLogLevel(newLevel).\n",
      "25/02/07 21:31:03 WARN NativeCodeLoader: Unable to load native-hadoop library for your platform... using builtin-java classes where applicable\n"
     ]
    }
   ],
   "source": [
    "from pyspark.sql import SparkSession\n",
    "from pyspark import SparkConf, SparkContext\n",
    "import pyspark.sql.functions as f\n",
    "import os\n",
    "\n",
    "os.environ[\"PYARROW_IGNORE_TIMEZONE\"] = \"1\"\n",
    "\n",
    "config = {\n",
    "    ('spark.dynamicAllocation.enabled', 'false'),\n",
    "    ('spark.executor.instances', '2'),\n",
    "    ('spark.executor.cores', '6'),\n",
    "    ('spark.executor.memory', '8g'),\n",
    "    ('spark.driver.memory', '10g'),\n",
    "    ('spark.eventLog.enabled', 'false'),\n",
    "    ('spark.sql.repl.eagerEval', 'enabled'),\n",
    "    ('spark.sql.execution.arrow.pyspark.enabled', 'true'),\n",
    "    ('spark.executor.heartbeatInterval', '60s'),\n",
    "    # ('spark.memory.fraction', '0.8'),\n",
    "    # ('spark.memory.storageFraction', '0.3')\n",
    "    # (\"spark.executor.extraJavaOptions\", \"-Xms4g -XX:+UseG1GC\"),\n",
    "    # (\"spark.driver.extraJavaOptions\", \"-Xms2g -XX:+UseG1GC\"),\n",
    "    (\"spark.sql.shuffle.partitions\", \"50\"),\n",
    "    (\"spark.driver.maxResultSize\", \"16g\")\n",
    "}\n",
    "\n",
    "conf = SparkConf().setAll(config)\n",
    "\n",
    "sc = SparkContext(appName='vtbProductRecsys', conf=conf)\n",
    "sc.setLogLevel('WARN')\n",
    "ss = SparkSession(sc).builder.getOrCreate()\n",
    "\n",
    "df = ss.read.option('header', True).parquet(\"task3_recsys/alfabattle_data/alfabattle2_sand_alfabattle2_train_transactions_contest/train_transactions_contest\")"
   ]
  },
  {
   "cell_type": "code",
   "execution_count": 2,
   "metadata": {},
   "outputs": [
    {
     "data": {
      "text/plain": [
       "270450065"
      ]
     },
     "execution_count": 2,
     "metadata": {},
     "output_type": "execute_result"
    }
   ],
   "source": [
    "df.count()"
   ]
  },
  {
   "cell_type": "code",
   "execution_count": 3,
   "metadata": {},
   "outputs": [
    {
     "name": "stdout",
     "output_type": "stream",
     "text": [
      "+------+-------------------+--------+--------------+---------+--------------+--------------------+--------------+--------------+-----------+---+-------+----+------------+-----------+----+-----------+----------+---------+------------------+-----------------+\n",
      "|app_id|               amnt|currency|operation_kind|card_type|operation_type|operation_type_group|ecommerce_flag|payment_system|income_flag|mcc|country|city|mcc_category|day_of_week|hour|days_before|weekofyear|hour_diff|transaction_number|__index_level_0__|\n",
      "+------+-------------------+--------+--------------+---------+--------------+--------------------+--------------+--------------+-----------+---+-------+----+------------+-----------+----+-----------+----------+---------+------------------+-----------------+\n",
      "|823300| 0.2975890792412704|       1|             4|        2|             4|                   2|             1|             3|          2|  2|      1|  93|           2|          2|  10|        240|        48|       -1|                 1|          4280508|\n",
      "|823300|  0.313568485330333|       1|             1|        2|             1|                   1|             1|             1|          1|  1|      1|  93|           1|          2|  10|        240|        48|        0|                 2|          4280509|\n",
      "|823300|  0.305395240024642|       1|             1|        2|             1|                   1|             1|             1|          1|  4|      1|   2|           3|          6|  15|        238|        46|       53|                 3|          4280510|\n",
      "|823300| 0.3029119192256977|       1|             1|        2|             1|                   1|             1|             1|          1|  1|      1|  93|           1|          4|  15|        236|        46|       48|                 4|          4280511|\n",
      "|823300|0.17345042262094507|       1|             1|        2|             1|                   1|             1|             1|          1| 10|      1|  93|           7|          3|  15|        235|        46|       24|                 5|          4280512|\n",
      "+------+-------------------+--------+--------------+---------+--------------+--------------------+--------------+--------------+-----------+---+-------+----+------------+-----------+----+-----------+----------+---------+------------------+-----------------+\n",
      "only showing top 5 rows\n",
      "\n"
     ]
    }
   ],
   "source": [
    "df.show(5)"
   ]
  },
  {
   "cell_type": "code",
   "execution_count": 4,
   "metadata": {},
   "outputs": [],
   "source": [
    "df_p = df.select([\"app_id\", \"mcc_category\", \"days_before\", \"transaction_number\", \"amnt\", \"operation_kind\", \"card_type\", \"operation_type\", \"operation_type_group\", \"ecommerce_flag\", \"payment_system\", \"income_flag\", \"city\", \"weekofyear\"])"
   ]
  },
  {
   "cell_type": "code",
   "execution_count": 5,
   "metadata": {},
   "outputs": [],
   "source": [
    "df_p = df_p.groupBy(\"app_id\").agg(\n",
    "    f.collect_list(\"transaction_number\").alias(\"tr_order_list\"),\n",
    "    f.collect_list(\"mcc_category\").alias(\"mcc_cat_list\"),\n",
    "    f.collect_list(\"days_before\").alias(\"days_b_list\"),\n",
    "    f.collect_list(\"amnt\").alias(\"amnt_list\"),\n",
    "    f.collect_list(\"operation_kind\").alias(\"op_kind_list\"),\n",
    "    f.collect_list(\"card_type\").alias(\"card_type_list\"),\n",
    "    f.collect_list(\"operation_type\").alias(\"op_type_list\"),\n",
    "    f.collect_list(\"operation_type_group\").alias(\"op_type_group_list\"),\n",
    "    f.collect_list(\"ecommerce_flag\").alias(\"ecomm_list\"),\n",
    "    f.collect_list(\"payment_system\").alias(\"payment_system_list\"),\n",
    "    f.collect_list(\"income_flag\").alias(\"income_list\"),\n",
    "    f.collect_list(\"city\").alias(\"city_list\"),\n",
    "    f.collect_list(\"weekofyear\").alias(\"weekofyear_list\")\n",
    ")\n",
    "\n",
    "df_p = df_p.withColumn(\"zipped\", f.arrays_zip(\n",
    "    \"tr_order_list\", \"mcc_cat_list\", \"days_b_list\", \"amnt_list\", \"op_kind_list\",\n",
    "    \"card_type_list\", \"op_type_list\", \"op_type_group_list\", \"ecomm_list\",\n",
    "    \"payment_system_list\", \"income_list\", \"city_list\", \"weekofyear_list\"\n",
    "))\n",
    "\n",
    "df_p = df_p.withColumn(\"sorted_zipped\", f.expr(\"array_sort(zipped, (x, y) -> x.tr_order_list - y.tr_order_list)\"))\n",
    "\n",
    "df_p = df_p.select(\n",
    "    f.col(\"app_id\"),\n",
    "    f.expr(\"transform(sorted_zipped, x -> x.mcc_cat_list)\").alias(\"mcc_cat_list\"),\n",
    "    f.expr(\"transform(sorted_zipped, x -> x.days_b_list)\").alias(\"days_b_list\"),\n",
    "    f.expr(\"transform(sorted_zipped, x -> x.tr_order_list)\").alias(\"tr_order_list\"),\n",
    "    f.expr(\"transform(sorted_zipped, x -> x.amnt_list)\").alias(\"amnt_list\"),\n",
    "    f.expr(\"transform(sorted_zipped, x -> x.op_kind_list)\").alias(\"op_kind_list\"),\n",
    "    f.expr(\"transform(sorted_zipped, x -> x.card_type_list)\").alias(\"card_type_list\"),\n",
    "    f.expr(\"transform(sorted_zipped, x -> x.op_type_list)\").alias(\"op_type_list\"),\n",
    "    f.expr(\"transform(sorted_zipped, x -> x.op_type_group_list)\").alias(\"op_type_group_list\"),\n",
    "    f.expr(\"transform(sorted_zipped, x -> x.ecomm_list)\").alias(\"ecomm_list\"),\n",
    "    f.expr(\"transform(sorted_zipped, x -> x.payment_system_list)\").alias(\"payment_system_list\"),\n",
    "    f.expr(\"transform(sorted_zipped, x -> x.income_list)\").alias(\"income_list\"),\n",
    "    f.expr(\"transform(sorted_zipped, x -> x.city_list)\").alias(\"city_list\"),\n",
    "    f.expr(\"transform(sorted_zipped, x -> x.weekofyear_list)\").alias(\"weekofyear_list\")\n",
    ")\n"
   ]
  },
  {
   "cell_type": "code",
   "execution_count": 6,
   "metadata": {},
   "outputs": [
    {
     "name": "stderr",
     "output_type": "stream",
     "text": [
      "25/02/07 21:31:46 WARN SparkStringUtils: Truncated the string representation of a plan since it was too large. This behavior can be adjusted by setting 'spark.sql.debug.maxToStringFields'.\n",
      "[Stage 5:=================>                                      (16 + 16) / 50]\r"
     ]
    },
    {
     "name": "stdout",
     "output_type": "stream",
     "text": [
      "[63.778s][warning][gc,alloc] Executor task launch worker for task 31.0 in stage 5.0 (TID 84): Retried waiting for GCLocker too often allocating 8388610 words\n",
      "[63.803s][warning][gc,alloc] Executor task launch worker for task 30.0 in stage 5.0 (TID 83): Retried waiting for GCLocker too often allocating 8388610 words\n"
     ]
    },
    {
     "name": "stderr",
     "output_type": "stream",
     "text": [
      "25/02/07 21:31:56 WARN TaskMemoryManager: Failed to allocate a page (67108864 bytes), try again.\n",
      "25/02/07 21:31:56 WARN TaskMemoryManager: Failed to allocate a page (67108864 bytes), try again.\n",
      "25/02/07 21:32:37 WARN GarbageCollectionMetrics: To enable non-built-in garbage collector(s) List(G1 Concurrent GC), users should configure it(them) to spark.eventLog.gcMetrics.youngGenerationGarbageCollectors or spark.eventLog.gcMetrics.oldGenerationGarbageCollectors\n",
      "[Stage 5:=======================================================> (49 + 1) / 50]\r"
     ]
    },
    {
     "name": "stdout",
     "output_type": "stream",
     "text": [
      "+------+--------------------+--------------------+--------------------+--------------------+--------------------+--------------------+--------------------+--------------------+--------------------+--------------------+--------------------+--------------------+--------------------+\n",
      "|app_id|        mcc_cat_list|         days_b_list|       tr_order_list|           amnt_list|        op_kind_list|      card_type_list|        op_type_list|  op_type_group_list|          ecomm_list| payment_system_list|         income_list|           city_list|     weekofyear_list|\n",
      "+------+--------------------+--------------------+--------------------+--------------------+--------------------+--------------------+--------------------+--------------------+--------------------+--------------------+--------------------+--------------------+--------------------+\n",
      "|    32|[4, 2, 1, 4, 4, 4...|[359, 359, 359, 3...|[1, 2, 3, 4, 5, 6...|[0.34429042610531...|[1, 2, 1, 1, 1, 1...|[11, 11, 11, 11, ...|[2, 3, 2, 2, 2, 2...|[1, 1, 1, 1, 1, 1...|[1, 1, 1, 1, 1, 1...|[2, 6, 2, 2, 2, 2...|[1, 1, 1, 1, 1, 1...|[1, 1, 163, 53, 1...|[52, 52, 52, 52, ...|\n",
      "|    60|[2, 16, 2, 1, 2, ...|[359, 357, 353, 3...|[1, 2, 3, 4, 5, 6...|[0.42654427020661...|[2, 1, 2, 1, 2, 2...|[51, 51, 51, 51, ...|[7, 1, 3, 1, 7, 7...|[1, 1, 1, 1, 1, 1...|[1, 1, 1, 1, 1, 1...|[1, 1, 6, 1, 1, 1...|[1, 1, 1, 1, 1, 1...|[2, 132, 2, 132, ...|[52, 52, 50, 42, ...|\n",
      "|    90|[2, 2, 11, 3, 2, ...|[358, 356, 356, 3...|[1, 2, 3, 4, 5, 6...|[0.51683365669772...|[2, 2, 1, 1, 3, 1...|[52, 52, 52, 52, ...|[3, 8, 16, 2, 5, ...|[1, 1, 1, 1, 1, 1...|[1, 1, 2, 2, 1, 2...|[6, 2, 6, 2, 6, 2...|[1, 1, 1, 1, 1, 1...|[3, 3, 1, 1, 1, 1...|[52, 50, 50, 50, ...|\n",
      "|   148|[2, 2, 2, 2, 2, 2...|[351, 351, 340, 3...|[1, 2, 3, 4, 5, 6...|[0.45630833834279...|[4, 4, 2, 2, 2, 2...|[52, 52, 52, 52, ...|[4, 4, 3, 3, 3, 3...|[2, 2, 1, 1, 1, 1...|[1, 1, 1, 1, 1, 1...|[3, 3, 6, 6, 6, 6...|[2, 2, 1, 1, 1, 1...|[34, 34, 34, 34, ...|[50, 50, 42, 42, ...|\n",
      "|   168|[2, 1, 2, 1, 2, 2...|[355, 349, 342, 3...|[1, 2, 3, 4, 5, 6...|[0.37516967959917...|[4, 1, 4, 1, 4, 4...|[5, 5, 175, 5, 5,...|[4, 2, 4, 2, 4, 4...|[2, 1, 2, 1, 2, 2...|[1, 1, 1, 1, 1, 1...|[3, 2, 3, 2, 3, 3...|[2, 1, 2, 1, 2, 2...|[85, 85, 85, 85, ...|[50, 39, 42, 48, ...|\n",
      "+------+--------------------+--------------------+--------------------+--------------------+--------------------+--------------------+--------------------+--------------------+--------------------+--------------------+--------------------+--------------------+--------------------+\n",
      "only showing top 5 rows\n",
      "\n"
     ]
    },
    {
     "name": "stderr",
     "output_type": "stream",
     "text": [
      "                                                                                \r"
     ]
    }
   ],
   "source": [
    "df_p.show(5)"
   ]
  },
  {
   "cell_type": "code",
   "execution_count": 7,
   "metadata": {},
   "outputs": [],
   "source": [
    "from pyspark.sql import functions as f\n",
    "\n",
    "df_p = df_p.withColumn(\"last_mcc_category\", f.element_at(\"mcc_cat_list\", -1))\n",
    "\n",
    "columns2trim = [\n",
    "    \"mcc_cat_list\", \"days_b_list\", \"tr_order_list\", \"amnt_list\",\n",
    "    \"op_kind_list\", \"card_type_list\", \"op_type_list\", \"op_type_group_list\",\n",
    "    \"ecomm_list\", \"payment_system_list\", \"income_list\", \"city_list\", \"weekofyear_list\"\n",
    "]\n",
    "\n",
    "for col in columns2trim:\n",
    "    df_p = df_p.withColumn(col, f.expr(f\"slice({col}, 1, size({col}) - 1)\"))\n",
    "# 1.5 min max approx"
   ]
  },
  {
   "cell_type": "code",
   "execution_count": 8,
   "metadata": {},
   "outputs": [
    {
     "name": "stderr",
     "output_type": "stream",
     "text": [
      "[Stage 8:======================================================>  (48 + 2) / 50]\r"
     ]
    },
    {
     "name": "stdout",
     "output_type": "stream",
     "text": [
      "+------+--------------------+--------------------+--------------------+--------------------+--------------------+--------------------+--------------------+--------------------+--------------------+--------------------+--------------------+--------------------+--------------------+-----------------+\n",
      "|app_id|        mcc_cat_list|         days_b_list|       tr_order_list|           amnt_list|        op_kind_list|      card_type_list|        op_type_list|  op_type_group_list|          ecomm_list| payment_system_list|         income_list|           city_list|     weekofyear_list|last_mcc_category|\n",
      "+------+--------------------+--------------------+--------------------+--------------------+--------------------+--------------------+--------------------+--------------------+--------------------+--------------------+--------------------+--------------------+--------------------+-----------------+\n",
      "|    32|[4, 2, 1, 4, 4, 4...|[359, 359, 359, 3...|[1, 2, 3, 4, 5, 6...|[0.34429042610531...|[1, 2, 1, 1, 1, 1...|[11, 11, 11, 11, ...|[2, 3, 2, 2, 2, 2...|[1, 1, 1, 1, 1, 1...|[1, 1, 1, 1, 1, 1...|[2, 6, 2, 2, 2, 2...|[1, 1, 1, 1, 1, 1...|[1, 1, 163, 53, 1...|[52, 52, 52, 52, ...|                2|\n",
      "|    60|[2, 16, 2, 1, 2, ...|[359, 357, 353, 3...|[1, 2, 3, 4, 5, 6...|[0.42654427020661...|[2, 1, 2, 1, 2, 2...|[51, 51, 51, 51, ...|[7, 1, 3, 1, 7, 7...|[1, 1, 1, 1, 1, 1...|[1, 1, 1, 1, 1, 1...|[1, 1, 6, 1, 1, 1...|[1, 1, 1, 1, 1, 1...|[2, 132, 2, 132, ...|[52, 52, 50, 42, ...|                2|\n",
      "|    90|[2, 2, 11, 3, 2, ...|[358, 356, 356, 3...|[1, 2, 3, 4, 5, 6...|[0.51683365669772...|[2, 2, 1, 1, 3, 1...|[52, 52, 52, 52, ...|[3, 8, 16, 2, 5, ...|[1, 1, 1, 1, 1, 1...|[1, 1, 2, 2, 1, 2...|[6, 2, 6, 2, 6, 2...|[1, 1, 1, 1, 1, 1...|[3, 3, 1, 1, 1, 1...|[52, 50, 50, 50, ...|                1|\n",
      "|   148|[2, 2, 2, 2, 2, 2...|[351, 351, 340, 3...|[1, 2, 3, 4, 5, 6...|[0.45630833834279...|[4, 4, 2, 2, 2, 2...|[52, 52, 52, 52, ...|[4, 4, 3, 3, 3, 3...|[2, 2, 1, 1, 1, 1...|[1, 1, 1, 1, 1, 1...|[3, 3, 6, 6, 6, 6...|[2, 2, 1, 1, 1, 1...|[34, 34, 34, 34, ...|[50, 50, 42, 42, ...|                2|\n",
      "|   168|[2, 1, 2, 1, 2, 2...|[355, 349, 342, 3...|[1, 2, 3, 4, 5, 6...|[0.37516967959917...|[4, 1, 4, 1, 4, 4...|[5, 5, 175, 5, 5,...|[4, 2, 4, 2, 4, 4...|[2, 1, 2, 1, 2, 2...|[1, 1, 1, 1, 1, 1...|[3, 2, 3, 2, 3, 3...|[2, 1, 2, 1, 2, 2...|[85, 85, 85, 85, ...|[50, 39, 42, 48, ...|                2|\n",
      "+------+--------------------+--------------------+--------------------+--------------------+--------------------+--------------------+--------------------+--------------------+--------------------+--------------------+--------------------+--------------------+--------------------+-----------------+\n",
      "only showing top 5 rows\n",
      "\n"
     ]
    },
    {
     "name": "stderr",
     "output_type": "stream",
     "text": [
      "                                                                                \r"
     ]
    }
   ],
   "source": [
    "df_p.show(5)"
   ]
  },
  {
   "cell_type": "code",
   "execution_count": 12,
   "metadata": {},
   "outputs": [],
   "source": [
    "df_p = df_p.drop(\"tr_order_list\")\n",
    "df_p = df_p.withColumn(\"last_card_type\", f.expr(\"element_at(card_type_list, -1)\"))\n",
    "df_p = df_p.withColumn(\"last_week\", f.expr(\"element_at(weekofyear_list, -1)\"))\n",
    "df_p = df_p.withColumn(\"ecomm_1\", f.size(f.expr(\"filter(ecomm_list, x -> x = 1)\")))\n",
    "df_p = df_p.withColumn(\"ecomm_2\", f.size(f.expr(\"filter(ecomm_list, x -> x = 2)\")))\n",
    "df_p = df_p.withColumn(\"optype_gr_1\", f.size(f.expr(\"filter(op_type_group_list, x -> x = 1)\")))\n",
    "df_p = df_p.withColumn(\"optype_gr_2\", f.size(f.expr(\"filter(op_type_group_list, x -> x = 2)\")))\n",
    "df_p = df_p.withColumn(\"optype_gr_3\", f.size(f.expr(\"filter(op_type_group_list, x -> x = 3)\")))\n",
    "df_p = df_p.drop(\"ecomm_list\", \"weekofyear_list\", \"op_type_group_list\")\n",
    "# 2 min max approx"
   ]
  },
  {
   "cell_type": "code",
   "execution_count": 13,
   "metadata": {},
   "outputs": [
    {
     "name": "stderr",
     "output_type": "stream",
     "text": [
      "[Stage 29:======================================================> (49 + 1) / 50]\r"
     ]
    },
    {
     "name": "stdout",
     "output_type": "stream",
     "text": [
      "+------+--------------------+--------------------+--------------------+--------------------+--------------------+--------------------+--------------------+--------------------+--------------------+-----------------+--------------+---------+-------+-------+-----------+-----------+-----------+\n",
      "|app_id|        mcc_cat_list|         days_b_list|           amnt_list|        op_kind_list|      card_type_list|        op_type_list| payment_system_list|         income_list|           city_list|last_mcc_category|last_card_type|last_week|ecomm_1|ecomm_2|optype_gr_1|optype_gr_2|optype_gr_3|\n",
      "+------+--------------------+--------------------+--------------------+--------------------+--------------------+--------------------+--------------------+--------------------+--------------------+-----------------+--------------+---------+-------+-------+-----------+-----------+-----------+\n",
      "|    32|[4, 2, 1, 4, 4, 4...|[359, 359, 359, 3...|[0.34429042610531...|[1, 2, 1, 1, 1, 1...|[11, 11, 11, 11, ...|[2, 3, 2, 2, 2, 2...|[2, 6, 2, 2, 2, 2...|[1, 1, 1, 1, 1, 1...|[1, 1, 163, 53, 1...|                2|             7|        1|    548|     63|        594|         17|          0|\n",
      "|    60|[2, 16, 2, 1, 2, ...|[359, 357, 353, 3...|[0.42654427020661...|[2, 1, 2, 1, 2, 2...|[51, 51, 51, 51, ...|[7, 1, 3, 1, 7, 7...|[1, 1, 6, 1, 1, 1...|[1, 1, 1, 1, 1, 1...|[2, 132, 2, 132, ...|                2|            51|        1|    135|     18|        147|          1|          5|\n",
      "|    90|[2, 2, 11, 3, 2, ...|[358, 356, 356, 3...|[0.51683365669772...|[2, 2, 1, 1, 3, 1...|[52, 52, 52, 52, ...|[3, 8, 16, 2, 5, ...|[6, 2, 6, 2, 6, 2...|[1, 1, 1, 1, 1, 1...|[3, 3, 1, 1, 1, 1...|                1|            14|        1|    344|    134|        475|          3|          0|\n",
      "|   148|[2, 2, 2, 2, 2, 2...|[351, 351, 340, 3...|[0.45630833834279...|[4, 4, 2, 2, 2, 2...|[52, 52, 52, 52, ...|[4, 4, 3, 3, 3, 3...|[3, 3, 6, 6, 6, 6...|[2, 2, 1, 1, 1, 1...|[34, 34, 34, 34, ...|                2|            14|        1|     45|      0|         36|          9|          0|\n",
      "|   168|[2, 1, 2, 1, 2, 2...|[355, 349, 342, 3...|[0.37516967959917...|[4, 1, 4, 1, 4, 4...|[5, 5, 175, 5, 5,...|[4, 2, 4, 2, 4, 4...|[3, 2, 3, 2, 3, 3...|[2, 1, 2, 1, 2, 2...|[85, 85, 85, 85, ...|                2|             5|       47|     49|      0|         25|         24|          0|\n",
      "+------+--------------------+--------------------+--------------------+--------------------+--------------------+--------------------+--------------------+--------------------+--------------------+-----------------+--------------+---------+-------+-------+-----------+-----------+-----------+\n",
      "only showing top 5 rows\n",
      "\n"
     ]
    },
    {
     "name": "stderr",
     "output_type": "stream",
     "text": [
      "                                                                                \r"
     ]
    }
   ],
   "source": [
    "df_p.show(5)"
   ]
  },
  {
   "cell_type": "code",
   "execution_count": null,
   "metadata": {},
   "outputs": [],
   "source": [
    "df_p.write.save(\"task3_recsys/alfabattle_df4transformer_feb7_v2.parquet\")"
   ]
  },
  {
   "cell_type": "markdown",
   "metadata": {},
   "source": [
    "---\n",
    "\n",
    "Перезапустим ядро, открыв DF в Pandas:"
   ]
  },
  {
   "cell_type": "code",
   "execution_count": 1,
   "metadata": {},
   "outputs": [],
   "source": [
    "import pandas as pd\n",
    "import numpy as np\n",
    "from tqdm import tqdm\n",
    "from itertools import chain\n",
    "from collections import Counter\n",
    "import seaborn as sns\n",
    "import matplotlib.pyplot as plt\n",
    "from tokenizers.implementations import BertWordPieceTokenizer, CharBPETokenizer\n",
    "from datasets import Dataset\n",
    "from string import ascii_letters\n",
    "from sklearn.model_selection import train_test_split\n",
    "import joblib\n",
    "import gc\n",
    "\n",
    "tqdm.pandas()\n",
    "\n",
    "df = pd.read_parquet(\"task3_recsys/alfabattle_df4transformer_feb7_v2.parquet/\")"
   ]
  },
  {
   "attachments": {
    "image.png": {
     "image/png": "[encoded data removed]"
    }
   },
   "cell_type": "markdown",
   "metadata": {},
   "source": [
    "Плотность распределения для `amount`, на 100000 мемберах.\n",
    "\n",
    "![image.png](attachment:image.png)"
   ]
  },
  {
   "cell_type": "markdown",
   "metadata": {},
   "source": [
    "Сразу разделим датафрейм на трейн и тест во избежание утечек."
   ]
  },
  {
   "cell_type": "code",
   "execution_count": 2,
   "metadata": {},
   "outputs": [
    {
     "data": {
      "image/png": "[encoded data removed]",
      "text/plain": [
       "<Figure size 640x480 with 1 Axes>"
      ]
     },
     "metadata": {},
     "output_type": "display_data"
    }
   ],
   "source": [
    "sns.kdeplot(df.days_b_list.map(lambda x: min(1024, len(x))));"
   ]
  },
  {
   "cell_type": "code",
   "execution_count": 3,
   "metadata": {},
   "outputs": [
    {
     "data": {
      "text/plain": [
       "['mcc_cat_list',\n",
       " 'days_b_list',\n",
       " 'amnt_list',\n",
       " 'op_kind_list',\n",
       " 'card_type_list',\n",
       " 'op_type_list',\n",
       " 'payment_system_list',\n",
       " 'income_list',\n",
       " 'city_list']"
      ]
     },
     "execution_count": 3,
     "metadata": {},
     "output_type": "execute_result"
    }
   ],
   "source": [
    "cols2sort = [i for i in list(df.columns) if (i not in [\"tr_order_list\"]) and (\"_list\" in i)]\n",
    "cols2sort"
   ]
  },
  {
   "cell_type": "markdown",
   "metadata": {},
   "source": [
    "~~Выделим Y.~~ (Уже сделано в спарке) Заметим, что в нем наблюдается очень сильный дисбаланс, как и в самом распределении mcc. "
   ]
  },
  {
   "cell_type": "code",
   "execution_count": 4,
   "metadata": {},
   "outputs": [
    {
     "data": {
      "text/plain": [
       "last_mcc_category\n",
       "2     350457\n",
       "1     230786\n",
       "3      78772\n",
       "4      56547\n",
       "8      47029\n",
       "5      42866\n",
       "6      35790\n",
       "7      24654\n",
       "11     17088\n",
       "9      15890\n",
       "12      9602\n",
       "10      9109\n",
       "13      7836\n",
       "14      7313\n",
       "15      5067\n",
       "16      3619\n",
       "18      3048\n",
       "17      2849\n",
       "19      2798\n",
       "21      2793\n",
       "20      2736\n",
       "22      1901\n",
       "23      1545\n",
       "25      1295\n",
       "24      1227\n",
       "26       725\n",
       "27       458\n",
       "28        11\n",
       "Name: count, dtype: int64"
      ]
     },
     "execution_count": 4,
     "metadata": {},
     "output_type": "execute_result"
    }
   ],
   "source": [
    "df.last_mcc_category.value_counts()"
   ]
  },
  {
   "cell_type": "markdown",
   "metadata": {},
   "source": [
    "Отсюда, будет корректным использовать токенизаторы, учитывающие частоту встречаемости MCC. Т.к. мы имеем дело с цифрами, для быстроты и простоты возможно сконвертировать каждый код в букву и работать с токенизаторами \"из коробки\". 28 MCC удалим - слишком маленький саппорт."
   ]
  },
  {
   "cell_type": "code",
   "execution_count": null,
   "metadata": {},
   "outputs": [],
   "source": [
    "df = df.rename(columns={\"last_mcc_category\": \"next_mcc\"}) \n",
    "# df.to_parquet(\"task3_recsys/numeric_df_for_booster_feb7_v2.parquet\") - same as orig, so no additional saving needed"
   ]
  },
  {
   "cell_type": "code",
   "execution_count": 5,
   "metadata": {},
   "outputs": [
    {
     "name": "stderr",
     "output_type": "stream",
     "text": [
      "100%|███████████████████████████████████████████████████████████████████████████████████████████████████████████████████████████████████████████████████████████████████████████████████████████████████████████| 963811/963811 [00:49<00:00, 19598.28it/s]\n"
     ]
    }
   ],
   "source": [
    "num2letter_mapping = {k:v for k, v in zip(range(1, 29), ascii_letters[:26] + \"12\")}\n",
    "df_v2 = df.copy()\n",
    "df_v2.mcc_cat_list = df.mcc_cat_list.progress_apply(lambda x: ''.join(np.vectorize(num2letter_mapping.get)(x)).replace(\"2\", \"\"))"
   ]
  },
  {
   "cell_type": "code",
   "execution_count": 11,
   "metadata": {},
   "outputs": [],
   "source": [
    "df_v2.next_mcc = df_v2.next_mcc.apply(lambda x: num2letter_mapping[x])\n",
    "df_v2 = df_v2[df_v2.next_mcc != \"2\"].sort_values(by=\"app_id\").reset_index(drop=True).copy()"
   ]
  },
  {
   "cell_type": "markdown",
   "metadata": {},
   "source": [
    "И разделим на трейн и тест - во избежание любого вида утечек."
   ]
  },
  {
   "cell_type": "code",
   "execution_count": null,
   "metadata": {},
   "outputs": [],
   "source": [
    "train_df, test_df = train_test_split(df_v2, test_size=.2, random_state=666, shuffle=True)\n",
    "train_df.shape, test_df.shape"
   ]
  },
  {
   "cell_type": "code",
   "execution_count": 25,
   "metadata": {},
   "outputs": [
    {
     "name": "stdout",
     "output_type": "stream",
     "text": [
      "\n",
      "\n",
      "\n",
      "\n",
      "\n",
      "\n"
     ]
    }
   ],
   "source": [
    "tokenizer = CharBPETokenizer(lowercase=True)\n",
    "gc.collect()\n",
    "tokenizer.train_from_iterator(train_df.sample(200_000).mcc_cat_list, vocab_size=256, min_frequency=2, show_progress=True)\n",
    "\n",
    "tokenizer.save(\"task3_recsys/models/tokenizer/vocab_256_bpe.json\") # используем\n",
    "\n",
    "#\n",
    "\n",
    "tokenizer = BertWordPieceTokenizer()\n",
    "gc.collect()\n",
    "tokenizer.train_from_iterator(train_df.sample(200_000).mcc_cat_list, vocab_size=256, min_frequency=2, show_progress=True)\n",
    "\n",
    "tokenizer.save(\"task3_recsys/models/tokenizer/vocab_256_wp.json\") # перформит похуже"
   ]
  },
  {
   "cell_type": "markdown",
   "metadata": {},
   "source": [
    "Почти готово. но перед сохранением датасетов переведем `amount` в дискретный вид, используя квантили по трейну:"
   ]
  },
  {
   "cell_type": "code",
   "execution_count": 11,
   "metadata": {},
   "outputs": [
    {
     "data": {
      "text/plain": [
       "{0.0005583518068306148: 1,\n",
       " 0.2589723765850067: 2,\n",
       " 0.29354986548423767: 3,\n",
       " 0.32024815678596497: 4,\n",
       " 0.3482751250267029: 5,\n",
       " 0.3785014748573303: 6,\n",
       " 0.415071576833725: 7,\n",
       " 0.4779440760612488: 8}"
      ]
     },
     "execution_count": 11,
     "metadata": {},
     "output_type": "execute_result"
    }
   ],
   "source": [
    "sample_arr = np.concatenate(train_df.sample(200_000).amnt_list.values)\n",
    "sample_arr = sample_arr[np.nonzero(sample_arr)]\n",
    "quantiles = np.quantile(sample_arr, np.arange(0, 1, .125))\n",
    "{k:v for k, v in zip(quantiles, range(1, len(quantiles)+1))}"
   ]
  },
  {
   "cell_type": "code",
   "execution_count": 12,
   "metadata": {},
   "outputs": [
    {
     "name": "stderr",
     "output_type": "stream",
     "text": [
      "100%|███████████████████████████████████████████████████████████████████████████████████████████████████████████████████████████| 771040/771040 [00:04<00:00, 158602.67it/s]\n",
      "100%|███████████████████████████████████████████████████████████████████████████████████████████████████████████████████████████| 192760/192760 [00:01<00:00, 158237.18it/s]\n"
     ]
    }
   ],
   "source": [
    "thr_mapping = {k:v for k, v in zip(quantiles, range(1, len(quantiles)+1))}\n",
    "thrs = list(thr_mapping.keys())\n",
    "train_df[\"amnt_list_discrete\"] = train_df.amnt_list.progress_apply(lambda x: np.digitize(x, thrs))\n",
    "test_df[\"amnt_list_discrete\"] = test_df.amnt_list.progress_apply(lambda x: np.digitize(x, thrs))"
   ]
  },
  {
   "cell_type": "markdown",
   "metadata": {},
   "source": [
    "Так выглядит итоговый DF для трансформера:"
   ]
  },
  {
   "cell_type": "code",
   "execution_count": 13,
   "metadata": {},
   "outputs": [
    {
     "data": {
      "text/html": [
       "<div>\n",
       "<style scoped>\n",
       "    .dataframe tbody tr th:only-of-type {\n",
       "        vertical-align: middle;\n",
       "    }\n",
       "\n",
       "    .dataframe tbody tr th {\n",
       "        vertical-align: top;\n",
       "    }\n",
       "\n",
       "    .dataframe thead th {\n",
       "        text-align: right;\n",
       "    }\n",
       "</style>\n",
       "<table border=\"1\" class=\"dataframe\">\n",
       "  <thead>\n",
       "    <tr style=\"text-align: right;\">\n",
       "      <th></th>\n",
       "      <th>app_id</th>\n",
       "      <th>mcc_cat_list</th>\n",
       "      <th>amnt_list_discrete</th>\n",
       "      <th>next_mcc</th>\n",
       "    </tr>\n",
       "  </thead>\n",
       "  <tbody>\n",
       "    <tr>\n",
       "      <th>843045</th>\n",
       "      <td>878469</td>\n",
       "      <td>bbbbbbgbbeudnvbgfgffxxddvdffnaejjeajbgdjedqqal...</td>\n",
       "      <td>[8, 8, 8, 8, 8, 8, 2, 8, 8, 7, 8, 6, 5, 8, 8, ...</td>\n",
       "      <td>a</td>\n",
       "    </tr>\n",
       "    <tr>\n",
       "      <th>644261</th>\n",
       "      <td>673064</td>\n",
       "      <td>bbbbbb</td>\n",
       "      <td>[6, 6, 6, 5, 6, 6]</td>\n",
       "      <td>b</td>\n",
       "    </tr>\n",
       "    <tr>\n",
       "      <th>940297</th>\n",
       "      <td>978962</td>\n",
       "      <td>bbbbbbbadaadbeeaaabbbbbaeadaaabaavbbk</td>\n",
       "      <td>[8, 7, 6, 6, 6, 7, 4, 7, 5, 7, 4, 6, 6, 6, 6, ...</td>\n",
       "      <td>h</td>\n",
       "    </tr>\n",
       "    <tr>\n",
       "      <th>570263</th>\n",
       "      <td>596073</td>\n",
       "      <td>bbbbbbbbggikieokfggaaaagaxfabafaaaabgggagbaaag...</td>\n",
       "      <td>[7, 7, 7, 5, 6, 6, 7, 8, 7, 3, 6, 8, 7, 4, 6, ...</td>\n",
       "      <td>j</td>\n",
       "    </tr>\n",
       "    <tr>\n",
       "      <th>504312</th>\n",
       "      <td>528044</td>\n",
       "      <td>cbaabbbdcbcbibdccbcbbbbbsidgfccdbccbdgabbbdida...</td>\n",
       "      <td>[5, 8, 7, 6, 4, 1, 7, 2, 2, 4, 6, 6, 7, 8, 5, ...</td>\n",
       "      <td>c</td>\n",
       "    </tr>\n",
       "  </tbody>\n",
       "</table>\n",
       "</div>"
      ],
      "text/plain": [
       "        app_id                                       mcc_cat_list  \\\n",
       "843045  878469  bbbbbbgbbeudnvbgfgffxxddvdffnaejjeajbgdjedqqal...   \n",
       "644261  673064                                             bbbbbb   \n",
       "940297  978962              bbbbbbbadaadbeeaaabbbbbaeadaaabaavbbk   \n",
       "570263  596073  bbbbbbbbggikieokfggaaaagaxfabafaaaabgggagbaaag...   \n",
       "504312  528044  cbaabbbdcbcbibdccbcbbbbbsidgfccdbccbdgabbbdida...   \n",
       "\n",
       "                                       amnt_list_discrete next_mcc  \n",
       "843045  [8, 8, 8, 8, 8, 8, 2, 8, 8, 7, 8, 6, 5, 8, 8, ...        a  \n",
       "644261                                 [6, 6, 6, 5, 6, 6]        b  \n",
       "940297  [8, 7, 6, 6, 6, 7, 4, 7, 5, 7, 4, 6, 6, 6, 6, ...        h  \n",
       "570263  [7, 7, 7, 5, 6, 6, 7, 8, 7, 3, 6, 8, 7, 4, 6, ...        j  \n",
       "504312  [5, 8, 7, 6, 4, 1, 7, 2, 2, 4, 6, 6, 7, 8, 5, ...        c  "
      ]
     },
     "execution_count": 13,
     "metadata": {},
     "output_type": "execute_result"
    }
   ],
   "source": [
    "train_df[[\"app_id\", \"mcc_cat_list\", \"amnt_list_discrete\", \"next_mcc\"]].head(5)"
   ]
  },
  {
   "cell_type": "code",
   "execution_count": 14,
   "metadata": {},
   "outputs": [],
   "source": [
    "train_df[[\"app_id\", \"mcc_cat_list\", \"amnt_list_discrete\", \"next_mcc\"]].reset_index(drop=True).to_parquet(\"task3_recsys/df_for_transformer_TRAIN.parquet\")\n",
    "test_df[[\"app_id\", \"mcc_cat_list\", \"amnt_list_discrete\", \"next_mcc\"]].reset_index(drop=True).to_parquet(\"task3_recsys/df_for_transformer_TEST.parquet\")\n",
    "\n",
    "# END"
   ]
  },
  {
   "cell_type": "markdown",
   "metadata": {},
   "source": [
    "---\n",
    "\n",
    "Misc below (**ignore**):"
   ]
  },
  {
   "cell_type": "markdown",
   "metadata": {},
   "source": [
    "Имеем некоторое кол-во мемберов с очень большой длиной - вместо базового слайса по последним N, где N - maxlen в будущем трансформере, разделим мемберов с длиной, например, в 2*N на два \"подмембера\" с длиной N. \n",
    "\n"
   ]
  },
  {
   "cell_type": "code",
   "execution_count": 5,
   "metadata": {},
   "outputs": [
    {
     "data": {
      "text/plain": [
       "0.3587051818250674"
      ]
     },
     "execution_count": 5,
     "metadata": {},
     "output_type": "execute_result"
    }
   ],
   "source": [
    "MAXLEN, LEN_THR = 256, 20\n",
    "\n",
    "df[\"arr_len\"] = df.tr_order_list.map(len)\n",
    "df[df.arr_len > MAXLEN+LEN_THR].shape[0] / df.shape[0]"
   ]
  },
  {
   "cell_type": "code",
   "execution_count": 17,
   "metadata": {},
   "outputs": [
    {
     "data": {
      "text/html": [
       "<div>\n",
       "<style scoped>\n",
       "    .dataframe tbody tr th:only-of-type {\n",
       "        vertical-align: middle;\n",
       "    }\n",
       "\n",
       "    .dataframe tbody tr th {\n",
       "        vertical-align: top;\n",
       "    }\n",
       "\n",
       "    .dataframe thead th {\n",
       "        text-align: right;\n",
       "    }\n",
       "</style>\n",
       "<table border=\"1\" class=\"dataframe\">\n",
       "  <thead>\n",
       "    <tr style=\"text-align: right;\">\n",
       "      <th></th>\n",
       "      <th>app_id</th>\n",
       "      <th>mcc_cat_list</th>\n",
       "      <th>days_b_list</th>\n",
       "      <th>tr_order_list</th>\n",
       "      <th>amnt_list</th>\n",
       "      <th>arr_len</th>\n",
       "    </tr>\n",
       "  </thead>\n",
       "  <tbody>\n",
       "    <tr>\n",
       "      <th>0</th>\n",
       "      <td>32</td>\n",
       "      <td>[4, 2, 1, 4, 4, 4, 1, 4, 4, 1, 1, 4, 4, 4, 1, ...</td>\n",
       "      <td>[359, 359, 359, 358, 358, 358, 358, 357, 357, ...</td>\n",
       "      <td>[1, 2, 3, 4, 5, 6, 7, 8, 9, 10, 11, 12, 13, 14...</td>\n",
       "      <td>[0.34429044, 0.42654428, 0.29469612, 0.2589723...</td>\n",
       "      <td>612</td>\n",
       "    </tr>\n",
       "    <tr>\n",
       "      <th>1</th>\n",
       "      <td>60</td>\n",
       "      <td>[2, 16, 2, 1, 2, 2, 16, 2, 2, 2, 2, 2, 3, 15, ...</td>\n",
       "      <td>[359, 357, 353, 342, 342, 342, 340, 337, 335, ...</td>\n",
       "      <td>[1, 2, 3, 4, 5, 6, 7, 8, 9, 10, 11, 12, 13, 14...</td>\n",
       "      <td>[0.42654428, 0.3475693, 0.38767713, 0.2796111,...</td>\n",
       "      <td>154</td>\n",
       "    </tr>\n",
       "    <tr>\n",
       "      <th>2</th>\n",
       "      <td>90</td>\n",
       "      <td>[2, 2, 11, 3, 2, 3, 3, 2, 2, 2, 11, 5, 3, 2, 1...</td>\n",
       "      <td>[358, 356, 356, 354, 348, 347, 345, 344, 343, ...</td>\n",
       "      <td>[1, 2, 3, 4, 5, 6, 7, 8, 9, 10, 11, 12, 13, 14...</td>\n",
       "      <td>[0.51683366, 0.55572605, 0.2975891, 0.44928715...</td>\n",
       "      <td>479</td>\n",
       "    </tr>\n",
       "    <tr>\n",
       "      <th>3</th>\n",
       "      <td>148</td>\n",
       "      <td>[2, 2, 2, 2, 2, 2, 2, 2, 2, 2, 2, 2, 2, 2, 2, ...</td>\n",
       "      <td>[351, 351, 340, 337, 320, 320, 320, 316, 316, ...</td>\n",
       "      <td>[1, 2, 3, 4, 5, 6, 7, 8, 9, 10, 11, 12, 13, 14...</td>\n",
       "      <td>[0.45630834, 0.38767713, 0.5846692, 0.34883797...</td>\n",
       "      <td>46</td>\n",
       "    </tr>\n",
       "    <tr>\n",
       "      <th>4</th>\n",
       "      <td>168</td>\n",
       "      <td>[2, 1, 2, 1, 2, 2, 1, 2, 2, 1, 1, 2, 1, 6, 1, ...</td>\n",
       "      <td>[355, 349, 342, 334, 326, 311, 304, 297, 282, ...</td>\n",
       "      <td>[1, 2, 3, 4, 5, 6, 7, 8, 9, 10, 11, 12, 13, 14...</td>\n",
       "      <td>[0.3751697, 0.31337497, 0.46105185, 0.2640675,...</td>\n",
       "      <td>50</td>\n",
       "    </tr>\n",
       "    <tr>\n",
       "      <th>...</th>\n",
       "      <td>...</td>\n",
       "      <td>...</td>\n",
       "      <td>...</td>\n",
       "      <td>...</td>\n",
       "      <td>...</td>\n",
       "      <td>...</td>\n",
       "    </tr>\n",
       "    <tr>\n",
       "      <th>963806</th>\n",
       "      <td>1002758</td>\n",
       "      <td>[1, 6, 7, 3, 1, 4, 2, 2, 6, 3, 1, 2, 2, 2, 1, ...</td>\n",
       "      <td>[359, 359, 358, 358, 358, 358, 357, 356, 355, ...</td>\n",
       "      <td>[1, 2, 3, 4, 5, 6, 7, 8, 9, 10, 11, 12, 13, 14...</td>\n",
       "      <td>[0.27182618, 0.2917079, 0.23424111, 0.3231544,...</td>\n",
       "      <td>537</td>\n",
       "    </tr>\n",
       "    <tr>\n",
       "      <th>963807</th>\n",
       "      <td>1002883</td>\n",
       "      <td>[8, 2, 1, 1, 7, 5, 5, 1, 2, 2, 2, 2, 2, 2, 2, ...</td>\n",
       "      <td>[159, 159, 159, 158, 158, 158, 158, 157, 152, ...</td>\n",
       "      <td>[1, 2, 3, 4, 5, 6, 7, 8, 9, 10, 11, 12, 13, 14...</td>\n",
       "      <td>[0.46542543, 0.38767713, 0.33768436, 0.2451867...</td>\n",
       "      <td>81</td>\n",
       "    </tr>\n",
       "    <tr>\n",
       "      <th>963808</th>\n",
       "      <td>1002933</td>\n",
       "      <td>[1, 4, 8, 2, 2, 2, 8, 2, 2, 8, 2, 1, 8, 1, 1, ...</td>\n",
       "      <td>[354, 352, 351, 340, 340, 323, 308, 291, 277, ...</td>\n",
       "      <td>[1, 2, 3, 4, 5, 6, 7, 8, 9, 10, 11, 12, 13, 14...</td>\n",
       "      <td>[0.39370915, 0.30753997, 0.44928715, 0.4943640...</td>\n",
       "      <td>42</td>\n",
       "    </tr>\n",
       "    <tr>\n",
       "      <th>963809</th>\n",
       "      <td>1002962</td>\n",
       "      <td>[11, 3, 1, 1, 5, 5, 6, 1, 1, 3, 16, 6, 3, 1, 6...</td>\n",
       "      <td>[355, 355, 355, 355, 355, 355, 355, 354, 354, ...</td>\n",
       "      <td>[1, 2, 3, 4, 5, 6, 7, 8, 9, 10, 11, 12, 13, 14...</td>\n",
       "      <td>[0.29730922, 0.42466223, 0.33091226, 0.3137320...</td>\n",
       "      <td>465</td>\n",
       "    </tr>\n",
       "    <tr>\n",
       "      <th>963810</th>\n",
       "      <td>1002963</td>\n",
       "      <td>[24, 1, 1, 2, 1, 1, 1, 12, 2, 5, 1, 1, 6, 2, 2...</td>\n",
       "      <td>[359, 359, 354, 348, 348, 347, 347, 347, 346, ...</td>\n",
       "      <td>[1, 2, 3, 4, 5, 6, 7, 8, 9, 10, 11, 12, 13, 14...</td>\n",
       "      <td>[0.35848704, 0.39712656, 0.27483687, 0.0, 0.32...</td>\n",
       "      <td>225</td>\n",
       "    </tr>\n",
       "  </tbody>\n",
       "</table>\n",
       "<p>963811 rows × 6 columns</p>\n",
       "</div>"
      ],
      "text/plain": [
       "         app_id                                       mcc_cat_list  \\\n",
       "0            32  [4, 2, 1, 4, 4, 4, 1, 4, 4, 1, 1, 4, 4, 4, 1, ...   \n",
       "1            60  [2, 16, 2, 1, 2, 2, 16, 2, 2, 2, 2, 2, 3, 15, ...   \n",
       "2            90  [2, 2, 11, 3, 2, 3, 3, 2, 2, 2, 11, 5, 3, 2, 1...   \n",
       "3           148  [2, 2, 2, 2, 2, 2, 2, 2, 2, 2, 2, 2, 2, 2, 2, ...   \n",
       "4           168  [2, 1, 2, 1, 2, 2, 1, 2, 2, 1, 1, 2, 1, 6, 1, ...   \n",
       "...         ...                                                ...   \n",
       "963806  1002758  [1, 6, 7, 3, 1, 4, 2, 2, 6, 3, 1, 2, 2, 2, 1, ...   \n",
       "963807  1002883  [8, 2, 1, 1, 7, 5, 5, 1, 2, 2, 2, 2, 2, 2, 2, ...   \n",
       "963808  1002933  [1, 4, 8, 2, 2, 2, 8, 2, 2, 8, 2, 1, 8, 1, 1, ...   \n",
       "963809  1002962  [11, 3, 1, 1, 5, 5, 6, 1, 1, 3, 16, 6, 3, 1, 6...   \n",
       "963810  1002963  [24, 1, 1, 2, 1, 1, 1, 12, 2, 5, 1, 1, 6, 2, 2...   \n",
       "\n",
       "                                              days_b_list  \\\n",
       "0       [359, 359, 359, 358, 358, 358, 358, 357, 357, ...   \n",
       "1       [359, 357, 353, 342, 342, 342, 340, 337, 335, ...   \n",
       "2       [358, 356, 356, 354, 348, 347, 345, 344, 343, ...   \n",
       "3       [351, 351, 340, 337, 320, 320, 320, 316, 316, ...   \n",
       "4       [355, 349, 342, 334, 326, 311, 304, 297, 282, ...   \n",
       "...                                                   ...   \n",
       "963806  [359, 359, 358, 358, 358, 358, 357, 356, 355, ...   \n",
       "963807  [159, 159, 159, 158, 158, 158, 158, 157, 152, ...   \n",
       "963808  [354, 352, 351, 340, 340, 323, 308, 291, 277, ...   \n",
       "963809  [355, 355, 355, 355, 355, 355, 355, 354, 354, ...   \n",
       "963810  [359, 359, 354, 348, 348, 347, 347, 347, 346, ...   \n",
       "\n",
       "                                            tr_order_list  \\\n",
       "0       [1, 2, 3, 4, 5, 6, 7, 8, 9, 10, 11, 12, 13, 14...   \n",
       "1       [1, 2, 3, 4, 5, 6, 7, 8, 9, 10, 11, 12, 13, 14...   \n",
       "2       [1, 2, 3, 4, 5, 6, 7, 8, 9, 10, 11, 12, 13, 14...   \n",
       "3       [1, 2, 3, 4, 5, 6, 7, 8, 9, 10, 11, 12, 13, 14...   \n",
       "4       [1, 2, 3, 4, 5, 6, 7, 8, 9, 10, 11, 12, 13, 14...   \n",
       "...                                                   ...   \n",
       "963806  [1, 2, 3, 4, 5, 6, 7, 8, 9, 10, 11, 12, 13, 14...   \n",
       "963807  [1, 2, 3, 4, 5, 6, 7, 8, 9, 10, 11, 12, 13, 14...   \n",
       "963808  [1, 2, 3, 4, 5, 6, 7, 8, 9, 10, 11, 12, 13, 14...   \n",
       "963809  [1, 2, 3, 4, 5, 6, 7, 8, 9, 10, 11, 12, 13, 14...   \n",
       "963810  [1, 2, 3, 4, 5, 6, 7, 8, 9, 10, 11, 12, 13, 14...   \n",
       "\n",
       "                                                amnt_list  arr_len  \n",
       "0       [0.34429044, 0.42654428, 0.29469612, 0.2589723...      612  \n",
       "1       [0.42654428, 0.3475693, 0.38767713, 0.2796111,...      154  \n",
       "2       [0.51683366, 0.55572605, 0.2975891, 0.44928715...      479  \n",
       "3       [0.45630834, 0.38767713, 0.5846692, 0.34883797...       46  \n",
       "4       [0.3751697, 0.31337497, 0.46105185, 0.2640675,...       50  \n",
       "...                                                   ...      ...  \n",
       "963806  [0.27182618, 0.2917079, 0.23424111, 0.3231544,...      537  \n",
       "963807  [0.46542543, 0.38767713, 0.33768436, 0.2451867...       81  \n",
       "963808  [0.39370915, 0.30753997, 0.44928715, 0.4943640...       42  \n",
       "963809  [0.29730922, 0.42466223, 0.33091226, 0.3137320...      465  \n",
       "963810  [0.35848704, 0.39712656, 0.27483687, 0.0, 0.32...      225  \n",
       "\n",
       "[963811 rows x 6 columns]"
      ]
     },
     "execution_count": 17,
     "metadata": {},
     "output_type": "execute_result"
    }
   ],
   "source": [
    "df_sub = df[df.arr_len > MAXLEN+LEN_THR]"
   ]
  },
  {
   "cell_type": "code",
   "execution_count": 22,
   "metadata": {},
   "outputs": [],
   "source": [
    "sample_arr = np.concatenate(df.sample(100_000).amnt_list.values)\n",
    "sample_arr = sample_arr[np.nonzero(sample_arr)]\n",
    "quantiles = np.quantile(sample_arr, np.arange(0, 1, .125))"
   ]
  },
  {
   "cell_type": "markdown",
   "metadata": {},
   "source": [
    "Переведем в дискретное распределение, опираясь на трешхолды по полученным квантилям:"
   ]
  },
  {
   "cell_type": "code",
   "execution_count": 25,
   "metadata": {},
   "outputs": [
    {
     "data": {
      "text/plain": [
       "{0.0005583518068306148: 1,\n",
       " 0.2589723765850067: 2,\n",
       " 0.29383713006973267: 3,\n",
       " 0.32024815678596497: 4,\n",
       " 0.3486135005950928: 5,\n",
       " 0.3787977397441864: 6,\n",
       " 0.4157286286354065: 7,\n",
       " 0.4779440760612488: 8}"
      ]
     },
     "execution_count": 25,
     "metadata": {},
     "output_type": "execute_result"
    }
   ],
   "source": [
    "{k:v for k, v in zip(quantiles, range(1, len(quantiles)+1))}"
   ]
  },
  {
   "cell_type": "code",
   "execution_count": 33,
   "metadata": {},
   "outputs": [
    {
     "name": "stderr",
     "output_type": "stream",
     "text": [
      "100%|███████████████████████████████████████████████████████████████████████████████████████████████████████████████████████████| 963811/963811 [00:06<00:00, 153829.28it/s]\n"
     ]
    }
   ],
   "source": [
    "thr_mapping = {k:v for k, v in zip(quantiles, range(1, len(quantiles)+1))}\n",
    "thrs = list(thr_mapping.keys())\n",
    "df[\"amnt_list_discrete\"] = df.amnt_list.progress_apply(lambda x: np.digitize(x, thrs))"
   ]
  },
  {
   "cell_type": "code",
   "execution_count": null,
   "metadata": {},
   "outputs": [],
   "source": [
    "sns.kdeplot(np.concatenate(df.amnt_list_discrete.values))"
   ]
  },
  {
   "cell_type": "code",
   "execution_count": 5,
   "metadata": {},
   "outputs": [
    {
     "data": {
      "text/plain": [
       "<AxesSubplot: ylabel='Density'>"
      ]
     },
     "execution_count": 5,
     "metadata": {},
     "output_type": "execute_result"
    },
    {
     "data": {
      "image/png": "[encoded data removed]",
      "text/plain": [
       "<Figure size 640x480 with 1 Axes>"
      ]
     },
     "metadata": {},
     "output_type": "display_data"
    }
   ],
   "source": [
    "sns.kdeplot(np.concatenate(df.sample(100_000).amnt_list.values))"
   ]
  },
  {
   "cell_type": "code",
   "execution_count": 4,
   "metadata": {},
   "outputs": [
    {
     "data": {
      "text/plain": [
       "<AxesSubplot: ylabel='Density'>"
      ]
     },
     "execution_count": 4,
     "metadata": {},
     "output_type": "execute_result"
    },
    {
     "data": {
      "image/png": "[encoded data removed]",
      "text/plain": [
       "<Figure size 640x480 with 1 Axes>"
      ]
     },
     "metadata": {},
     "output_type": "display_data"
    }
   ],
   "source": [
    "sns.kdeplot(np.concatenate(df.sample(100_000).amnt_list.values))"
   ]
  },
  {
   "cell_type": "code",
   "execution_count": 3,
   "metadata": {},
   "outputs": [
    {
     "data": {
      "text/plain": [
       "<AxesSubplot: ylabel='Density'>"
      ]
     },
     "execution_count": 3,
     "metadata": {},
     "output_type": "execute_result"
    },
    {
     "data": {
      "image/png": "[encoded data removed]",
      "text/plain": [
       "<Figure size 640x480 with 1 Axes>"
      ]
     },
     "metadata": {},
     "output_type": "display_data"
    }
   ],
   "source": [
    "sns.kdeplot(np.concatenate(df.sample(100_000).amnt_list.values, dtype=np.float16))"
   ]
  },
  {
   "cell_type": "code",
   "execution_count": 16,
   "metadata": {},
   "outputs": [
    {
     "name": "stderr",
     "output_type": "stream",
     "text": [
      "100%|█████████████████████████████████████████████████████████████████████████████████████████████████████████████████████████████| 963811/963811 [00:14<00:00, 68773.38it/s]\n"
     ]
    }
   ],
   "source": [
    "df[\"isgood\"] = df.progress_apply(lambda row: (row.tr_order_list == row.tr_order_list2).all(), axis=1)"
   ]
  },
  {
   "cell_type": "code",
   "execution_count": 19,
   "metadata": {},
   "outputs": [
    {
     "data": {
      "text/html": [
       "<div>\n",
       "<style scoped>\n",
       "    .dataframe tbody tr th:only-of-type {\n",
       "        vertical-align: middle;\n",
       "    }\n",
       "\n",
       "    .dataframe tbody tr th {\n",
       "        vertical-align: top;\n",
       "    }\n",
       "\n",
       "    .dataframe thead th {\n",
       "        text-align: right;\n",
       "    }\n",
       "</style>\n",
       "<table border=\"1\" class=\"dataframe\">\n",
       "  <thead>\n",
       "    <tr style=\"text-align: right;\">\n",
       "      <th></th>\n",
       "      <th>app_id</th>\n",
       "      <th>mcc_cat_list</th>\n",
       "      <th>days_b_list</th>\n",
       "      <th>tr_order_list</th>\n",
       "      <th>amnt_list</th>\n",
       "      <th>tr_order_list2</th>\n",
       "      <th>isgood</th>\n",
       "    </tr>\n",
       "  </thead>\n",
       "  <tbody>\n",
       "    <tr>\n",
       "      <th>25893</th>\n",
       "      <td>343682</td>\n",
       "      <td>[18, 6, 1, 6, 1, 6, 11, 6, 11, 6, 11, 9, 21, 6...</td>\n",
       "      <td>[96, 359, 96, 359, 96, 359, 95, 359, 95, 359, ...</td>\n",
       "      <td>[565, 1, 566, 2, 567, 3, 568, 4, 569, 5, 570, ...</td>\n",
       "      <td>[0.5854493139665432, 0.6345674115275727, 0.484...</td>\n",
       "      <td>[1, 2, 3, 4, 5, 6, 7, 8, 9, 10, 11, 12, 13, 14...</td>\n",
       "      <td>False</td>\n",
       "    </tr>\n",
       "    <tr>\n",
       "      <th>29224</th>\n",
       "      <td>517465</td>\n",
       "      <td>[5, 4, 10, 9, 1, 1, 1, 19, 2, 9, 2, 2, 2, 9, 9...</td>\n",
       "      <td>[358, 358, 358, 356, 355, 355, 355, 354, 288, ...</td>\n",
       "      <td>[2, 3, 4, 5, 6, 7, 8, 9, 10, 11, 12, 13, 14, 1...</td>\n",
       "      <td>[0.3876771200456198, 0.3041673159273216, 0.392...</td>\n",
       "      <td>[1, 2, 3, 4, 5, 6, 7, 8, 9, 10, 11, 12, 13, 14...</td>\n",
       "      <td>False</td>\n",
       "    </tr>\n",
       "    <tr>\n",
       "      <th>64208</th>\n",
       "      <td>321970</td>\n",
       "      <td>[1, 2, 2, 21, 5, 5, 9, 11, 9, 1, 10, 2, 2, 1, ...</td>\n",
       "      <td>[352, 359, 351, 359, 349, 357, 349, 356, 349, ...</td>\n",
       "      <td>[8, 1, 9, 2, 10, 3, 11, 4, 12, 5, 13, 6, 14, 7...</td>\n",
       "      <td>[0.2894946722589888, 0.5302446323884591, 0.477...</td>\n",
       "      <td>[1, 2, 3, 4, 5, 6, 7, 8, 9, 10, 11, 12, 13, 14...</td>\n",
       "      <td>False</td>\n",
       "    </tr>\n",
       "    <tr>\n",
       "      <th>64743</th>\n",
       "      <td>351107</td>\n",
       "      <td>[2, 7, 2, 2, 2, 2, 2, 2, 2, 2, 2, 2, 2, 2, 2, ...</td>\n",
       "      <td>[189, 153, 127, 115, 114, 113, 105, 98, 91, 91...</td>\n",
       "      <td>[2, 3, 4, 5, 6, 7, 8, 9, 10, 11, 12, 13, 14, 1...</td>\n",
       "      <td>[0.5946198205801868, 0.646035618122452, 0.5168...</td>\n",
       "      <td>[1, 2, 3, 4, 5, 6, 7, 8, 9, 10, 11, 12, 13, 14...</td>\n",
       "      <td>False</td>\n",
       "    </tr>\n",
       "    <tr>\n",
       "      <th>74201</th>\n",
       "      <td>835448</td>\n",
       "      <td>[4, 9, 1, 1, 6, 10, 6, 4, 6, 1, 16, 5, 4, 2, 4...</td>\n",
       "      <td>[220, 358, 220, 357, 219, 356, 219, 354, 219, ...</td>\n",
       "      <td>[229, 1, 230, 2, 231, 3, 232, 4, 233, 5, 234, ...</td>\n",
       "      <td>[0.3911020814225655, 0.4914862395697451, 0.449...</td>\n",
       "      <td>[1, 2, 3, 4, 5, 6, 7, 8, 9, 10, 11, 12, 13, 14...</td>\n",
       "      <td>False</td>\n",
       "    </tr>\n",
       "    <tr>\n",
       "      <th>...</th>\n",
       "      <td>...</td>\n",
       "      <td>...</td>\n",
       "      <td>...</td>\n",
       "      <td>...</td>\n",
       "      <td>...</td>\n",
       "      <td>...</td>\n",
       "      <td>...</td>\n",
       "    </tr>\n",
       "    <tr>\n",
       "      <th>929840</th>\n",
       "      <td>240623</td>\n",
       "      <td>[11, 2, 2, 2, 2, 2, 2, 2, 11, 11, 11, 2, 2, 2,...</td>\n",
       "      <td>[259, 357, 257, 357, 253, 354, 248, 349, 245, ...</td>\n",
       "      <td>[49, 1, 50, 2, 51, 3, 52, 4, 53, 5, 54, 6, 55,...</td>\n",
       "      <td>[0.3876771200456198, 0.4654254330729043, 0.516...</td>\n",
       "      <td>[1, 2, 3, 4, 5, 6, 7, 8, 9, 10, 11, 12, 13, 14...</td>\n",
       "      <td>False</td>\n",
       "    </tr>\n",
       "    <tr>\n",
       "      <th>931081</th>\n",
       "      <td>307012</td>\n",
       "      <td>[2, 2, 2, 2, 2, 2, 2, 2, 2, 2, 2, 2, 2, 2, 2, ...</td>\n",
       "      <td>[322, 294, 264, 233, 201, 170, 162, 162, 152, ...</td>\n",
       "      <td>[2, 3, 4, 5, 6, 7, 8, 9, 10, 11, 12, 13, 14, 1...</td>\n",
       "      <td>[0.5168336566977262, 0.45793447044972274, 0.51...</td>\n",
       "      <td>[1, 2, 3, 4, 5, 6, 7, 8, 9, 10, 11, 12, 13, 14...</td>\n",
       "      <td>False</td>\n",
       "    </tr>\n",
       "    <tr>\n",
       "      <th>939834</th>\n",
       "      <td>764761</td>\n",
       "      <td>[1, 13, 1, 1, 1, 1, 3, 1, 1, 1, 7, 1, 3, 1, 3,...</td>\n",
       "      <td>[101, 359, 101, 359, 101, 359, 100, 357, 99, 3...</td>\n",
       "      <td>[270, 1, 271, 2, 272, 3, 273, 4, 274, 5, 275, ...</td>\n",
       "      <td>[0.253060185981737, 0.3183020909751167, 0.3415...</td>\n",
       "      <td>[1, 2, 3, 4, 5, 6, 7, 8, 9, 10, 11, 12, 13, 14...</td>\n",
       "      <td>False</td>\n",
       "    </tr>\n",
       "    <tr>\n",
       "      <th>959555</th>\n",
       "      <td>788513</td>\n",
       "      <td>[1, 4, 2, 3, 1, 4, 2, 1, 1, 14, 2, 1, 1, 2, 2,...</td>\n",
       "      <td>[352, 352, 352, 352, 351, 351, 351, 351, 350, ...</td>\n",
       "      <td>[2, 3, 4, 5, 6, 7, 8, 9, 10, 11, 12, 13, 14, 1...</td>\n",
       "      <td>[0.29007537064421424, 0.29842041136607067, 0.4...</td>\n",
       "      <td>[1, 2, 3, 4, 5, 6, 7, 8, 9, 10, 11, 12, 13, 14...</td>\n",
       "      <td>False</td>\n",
       "    </tr>\n",
       "    <tr>\n",
       "      <th>962318</th>\n",
       "      <td>928409</td>\n",
       "      <td>[11, 4, 3, 3, 4, 4, 3, 3, 3, 4, 3, 4, 4, 6, 7,...</td>\n",
       "      <td>[21, 359, 21, 359, 21, 359, 21, 359, 20, 359, ...</td>\n",
       "      <td>[1563, 1, 1564, 2, 1565, 3, 1566, 4, 1567, 5, ...</td>\n",
       "      <td>[0.3488379638169017, 0.3488379638169017, 0.297...</td>\n",
       "      <td>[1, 2, 3, 4, 5, 6, 7, 8, 9, 10, 11, 12, 13, 14...</td>\n",
       "      <td>False</td>\n",
       "    </tr>\n",
       "  </tbody>\n",
       "</table>\n",
       "<p>99 rows × 7 columns</p>\n",
       "</div>"
      ],
      "text/plain": [
       "        app_id                                       mcc_cat_list  \\\n",
       "25893   343682  [18, 6, 1, 6, 1, 6, 11, 6, 11, 6, 11, 9, 21, 6...   \n",
       "29224   517465  [5, 4, 10, 9, 1, 1, 1, 19, 2, 9, 2, 2, 2, 9, 9...   \n",
       "64208   321970  [1, 2, 2, 21, 5, 5, 9, 11, 9, 1, 10, 2, 2, 1, ...   \n",
       "64743   351107  [2, 7, 2, 2, 2, 2, 2, 2, 2, 2, 2, 2, 2, 2, 2, ...   \n",
       "74201   835448  [4, 9, 1, 1, 6, 10, 6, 4, 6, 1, 16, 5, 4, 2, 4...   \n",
       "...        ...                                                ...   \n",
       "929840  240623  [11, 2, 2, 2, 2, 2, 2, 2, 11, 11, 11, 2, 2, 2,...   \n",
       "931081  307012  [2, 2, 2, 2, 2, 2, 2, 2, 2, 2, 2, 2, 2, 2, 2, ...   \n",
       "939834  764761  [1, 13, 1, 1, 1, 1, 3, 1, 1, 1, 7, 1, 3, 1, 3,...   \n",
       "959555  788513  [1, 4, 2, 3, 1, 4, 2, 1, 1, 14, 2, 1, 1, 2, 2,...   \n",
       "962318  928409  [11, 4, 3, 3, 4, 4, 3, 3, 3, 4, 3, 4, 4, 6, 7,...   \n",
       "\n",
       "                                              days_b_list  \\\n",
       "25893   [96, 359, 96, 359, 96, 359, 95, 359, 95, 359, ...   \n",
       "29224   [358, 358, 358, 356, 355, 355, 355, 354, 288, ...   \n",
       "64208   [352, 359, 351, 359, 349, 357, 349, 356, 349, ...   \n",
       "64743   [189, 153, 127, 115, 114, 113, 105, 98, 91, 91...   \n",
       "74201   [220, 358, 220, 357, 219, 356, 219, 354, 219, ...   \n",
       "...                                                   ...   \n",
       "929840  [259, 357, 257, 357, 253, 354, 248, 349, 245, ...   \n",
       "931081  [322, 294, 264, 233, 201, 170, 162, 162, 152, ...   \n",
       "939834  [101, 359, 101, 359, 101, 359, 100, 357, 99, 3...   \n",
       "959555  [352, 352, 352, 352, 351, 351, 351, 351, 350, ...   \n",
       "962318  [21, 359, 21, 359, 21, 359, 21, 359, 20, 359, ...   \n",
       "\n",
       "                                            tr_order_list  \\\n",
       "25893   [565, 1, 566, 2, 567, 3, 568, 4, 569, 5, 570, ...   \n",
       "29224   [2, 3, 4, 5, 6, 7, 8, 9, 10, 11, 12, 13, 14, 1...   \n",
       "64208   [8, 1, 9, 2, 10, 3, 11, 4, 12, 5, 13, 6, 14, 7...   \n",
       "64743   [2, 3, 4, 5, 6, 7, 8, 9, 10, 11, 12, 13, 14, 1...   \n",
       "74201   [229, 1, 230, 2, 231, 3, 232, 4, 233, 5, 234, ...   \n",
       "...                                                   ...   \n",
       "929840  [49, 1, 50, 2, 51, 3, 52, 4, 53, 5, 54, 6, 55,...   \n",
       "931081  [2, 3, 4, 5, 6, 7, 8, 9, 10, 11, 12, 13, 14, 1...   \n",
       "939834  [270, 1, 271, 2, 272, 3, 273, 4, 274, 5, 275, ...   \n",
       "959555  [2, 3, 4, 5, 6, 7, 8, 9, 10, 11, 12, 13, 14, 1...   \n",
       "962318  [1563, 1, 1564, 2, 1565, 3, 1566, 4, 1567, 5, ...   \n",
       "\n",
       "                                                amnt_list  \\\n",
       "25893   [0.5854493139665432, 0.6345674115275727, 0.484...   \n",
       "29224   [0.3876771200456198, 0.3041673159273216, 0.392...   \n",
       "64208   [0.2894946722589888, 0.5302446323884591, 0.477...   \n",
       "64743   [0.5946198205801868, 0.646035618122452, 0.5168...   \n",
       "74201   [0.3911020814225655, 0.4914862395697451, 0.449...   \n",
       "...                                                   ...   \n",
       "929840  [0.3876771200456198, 0.4654254330729043, 0.516...   \n",
       "931081  [0.5168336566977262, 0.45793447044972274, 0.51...   \n",
       "939834  [0.253060185981737, 0.3183020909751167, 0.3415...   \n",
       "959555  [0.29007537064421424, 0.29842041136607067, 0.4...   \n",
       "962318  [0.3488379638169017, 0.3488379638169017, 0.297...   \n",
       "\n",
       "                                           tr_order_list2  isgood  \n",
       "25893   [1, 2, 3, 4, 5, 6, 7, 8, 9, 10, 11, 12, 13, 14...   False  \n",
       "29224   [1, 2, 3, 4, 5, 6, 7, 8, 9, 10, 11, 12, 13, 14...   False  \n",
       "64208   [1, 2, 3, 4, 5, 6, 7, 8, 9, 10, 11, 12, 13, 14...   False  \n",
       "64743   [1, 2, 3, 4, 5, 6, 7, 8, 9, 10, 11, 12, 13, 14...   False  \n",
       "74201   [1, 2, 3, 4, 5, 6, 7, 8, 9, 10, 11, 12, 13, 14...   False  \n",
       "...                                                   ...     ...  \n",
       "929840  [1, 2, 3, 4, 5, 6, 7, 8, 9, 10, 11, 12, 13, 14...   False  \n",
       "931081  [1, 2, 3, 4, 5, 6, 7, 8, 9, 10, 11, 12, 13, 14...   False  \n",
       "939834  [1, 2, 3, 4, 5, 6, 7, 8, 9, 10, 11, 12, 13, 14...   False  \n",
       "959555  [1, 2, 3, 4, 5, 6, 7, 8, 9, 10, 11, 12, 13, 14...   False  \n",
       "962318  [1, 2, 3, 4, 5, 6, 7, 8, 9, 10, 11, 12, 13, 14...   False  \n",
       "\n",
       "[99 rows x 7 columns]"
      ]
     },
     "execution_count": 19,
     "metadata": {},
     "output_type": "execute_result"
    }
   ],
   "source": [
    "df[~df.isgood]"
   ]
  }
 ],
 "metadata": {
  "kernelspec": {
   "display_name": "Python 3 (ipykernel)",
   "language": "python",
   "name": "python3"
  }
 },
 "nbformat": 4,
 "nbformat_minor": 2
}
